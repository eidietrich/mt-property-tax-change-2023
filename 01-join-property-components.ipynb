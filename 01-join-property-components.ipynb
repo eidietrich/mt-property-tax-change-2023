{
 "cells": [
  {
   "cell_type": "markdown",
   "metadata": {},
   "source": [
    "# 01 - Join property components\n",
    "\n",
    "Merges property component data supplied by the Department of Revenue to produce one-line-per-geocode (i.e. PropertyNumber) data tables with estimated tax figures for 2022 and 2023 tax rolls. Those tables are then joined for geocodes in both years of data to produce a data table that allows year-to-year changes in existing property to be analyzed."
   ]
  },
  {
   "cell_type": "code",
   "execution_count": 1,
   "metadata": {},
   "outputs": [],
   "source": [
    "# Libraries\n",
    "import pandas as pd\n",
    "import numpy as np\n",
    "pd.set_option('display.max_columns', 100)"
   ]
  },
  {
   "cell_type": "markdown",
   "metadata": {},
   "source": [
    "Import data provided by MTDOR in Oct. 2023. This data breaks individual properties into their taxable components (different components are sometimes in different property classes, meaning they are subject to different tax rates)."
   ]
  },
  {
   "cell_type": "code",
   "execution_count": 2,
   "metadata": {},
   "outputs": [
    {
     "name": "stderr",
     "output_type": "stream",
     "text": [
      "/var/folders/gk/_q4g8knj7354h1qcc0gsdcq00000gp/T/ipykernel_21232/3768125689.py:31: DtypeWarning: Columns (11) have mixed types. Specify dtype option on import or set low_memory=False.\n",
      "  property_components_23 = pd.read_csv('./raw/TY2023_Property_Data.csv', dtype=dtype, encoding='ISO-8859-1')\n"
     ]
    }
   ],
   "source": [
    "dtype = {\n",
    "    'TaxYear': str,\n",
    "    'Co': str,\n",
    "    'LevyDistrictCode': str,\n",
    "    'PropertyNumber': str,\n",
    "    'TaxClass': str,\n",
    "    'ClassCode': str,\n",
    "    'ClassCodeDesc': str,\n",
    "    'AbateInd': str,\n",
    "    'SM': str,\n",
    "    'PropertyTypeDesc': str,\n",
    "    'TIFName': str,\n",
    "    'TIFCode': str,\n",
    "    'AssessmentCode': str,\n",
    "    'NameLast': str,\n",
    "    'Address1': str,\n",
    "    'Address2': str,\n",
    "    'Address3': str,\n",
    "    'City': str,\n",
    "    'State': str,\n",
    "    'ZIP': str,\n",
    "    'Situs_Address': str,\n",
    "    'Situs_City': str,\n",
    "    'Situs_State': str,\n",
    "    'Situs_ZipCode': str,\n",
    "    'MV': float,\n",
    "    'TV': float,\n",
    "    'Mills': float\n",
    "}\n",
    "property_components_22 = pd.read_csv('./raw/TY2022_Property_Data.csv', dtype=dtype, encoding='ISO-8859-1')\n",
    "property_components_23 = pd.read_csv('./raw/TY2023_Property_Data.csv', dtype=dtype, encoding='ISO-8859-1')"
   ]
  },
  {
   "cell_type": "markdown",
   "metadata": {},
   "source": [
    "Clean and process property component data.\n",
    "\n",
    "Cleaning involves adding county names to data for ease of analysis and filling in missing property numbers for Stillwater Mining Company properties.\n",
    "\n",
    "Processing steps adjust each component's millage rate to include a consistent 95 state mills in accordance with November's Montana Supreme Court ruling. Estimated tax values are calculated for each component using taxable value and the resulting millage rate.\n",
    "\n",
    "We're also assigning a simplified type category to each property to allow for property-type-based analysis that uses five simple property categories as opposed to the ~20 in the department's data.\n"
   ]
  },
  {
   "cell_type": "code",
   "execution_count": 3,
   "metadata": {},
   "outputs": [],
   "source": [
    "# DATA CLEANING\n",
    "\n",
    "# Assign county names based on county number\n",
    "COUNTIES = {\"1\":\"SILVER BOW\",\"2\":\"CASCADE\",\"3\":\"YELLOWSTONE\",\"4\":\"MISSOULA\",\"5\":\"LEWIS AND CLARK\",\"6\":\"GALLATIN\",\"7\":\"FLATHEAD\",\"8\":\"FERGUS\",\"9\":\"POWDER RIVER\",\"10\":\"CARBON\",\"11\":\"PHILLIPS\",\"12\":\"HILL\",\"13\":\"RAVALLI\",\"14\":\"CUSTER\",\"15\":\"LAKE\",\"16\":\"DAWSON\",\"17\":\"ROOSEVELT\",\"18\":\"BEAVERHEAD\",\"19\":\"CHOUTEAU\",\"20\":\"VALLEY\",\"21\":\"TOOLE\",\"22\":\"BIG HORN\",\"23\":\"MUSSELSHELL\",\"24\":\"BLAINE\",\"25\":\"MADISON\",\"26\":\"PONDERA\",\"27\":\"RICHLAND\",\"28\":\"POWELL\",\"29\":\"ROSEBUD\",\"30\":\"DEER LODGE\",\"31\":\"TETON\",\"32\":\"STILLWATER\",\"33\":\"TREASURE\",\"34\":\"SHERIDAN\",\"35\":\"SANDERS\",\"36\":\"JUDITH BASIN\",\"37\":\"DANIELS\",\"38\":\"GLACIER\",\"39\":\"FALLON\",\"40\":\"SWEET GRASS\",\"41\":\"MCCONE\",\"42\":\"CARTER\",\"43\":\"BROADWATER\",\"44\":\"WHEATLAND\",\"45\":\"PRAIRIE\",\"46\":\"GRANITE\",\"47\":\"MEAGHER\",\"48\":\"LIBERTY\",\"49\":\"PARK\",\"50\":\"GARFIELD\",\"51\":\"JEFFERSON\",\"52\":\"WIBAUX\",\"53\":\"GOLDEN VALLEY\",\"54\":\"MINERAL\",\"55\":\"PETROLEUM\",\"56\":\"LINCOLN\"}\n",
    "property_components_22['County'] = property_components_22['Co'].map(lambda x: COUNTIES[str(x)])\n",
    "property_components_23['County'] = property_components_23['Co'].map(lambda x: COUNTIES[str(x)])\n",
    "\n",
    "# Add missing geocode for Stillwater Mining Company properties to keep grouping code from breaking later\n",
    "#   Appending PropertyTypeDesc here to maintain a single PropTypeDesc for each PropertyNumber\n",
    "property_components_22['PropertyNumber'].fillna('mtfp_smc_' + property_components_22['PropertyTypeDesc'], inplace=True)\n",
    "property_components_23['PropertyNumber'].fillna('mtfp_smc_' + property_components_23['PropertyTypeDesc'], inplace=True)"
   ]
  },
  {
   "cell_type": "code",
   "execution_count": 4,
   "metadata": {},
   "outputs": [],
   "source": [
    "# DATA PROCESSING\n",
    "\n",
    "# Adjust  Mills values to account for Nov. 2023 MT Supreme Court ruling on state mills\n",
    "#   Source data factored in 77.89 mills for counties that levied the lower rate\n",
    "#   This adjustment should set every property to a millage rate that includes the full 95\n",
    "STATE_MILLS = pd.read_csv('./config/counties-95-mill-status-oct-23.csv')\n",
    "STATE_MILLS['County'] = STATE_MILLS['County'].str.upper() # For data merge\n",
    "property_components_23 = property_components_23.merge(STATE_MILLS, left_on='County', right_on='County')\n",
    "property_components_23['Mills_unadjusted'] = property_components_23['Mills']\n",
    "# Set Mills for all 2023 components to millage value with full 95 collected\n",
    "#   Math: Strip off initial state millage component then add back in a full 95\n",
    "property_components_23['Mills'] = property_components_23['Mills'] - property_components_23['state_mills'] + 95 \n",
    "\n",
    "# Calculate estimated taxes amount for each property component\n",
    "\n",
    "def calc_estimated_taxes (df):\n",
    "    MILL_FACTOR = 1000\n",
    "    return df['TV'] * df['Mills'] / MILL_FACTOR # TV is property component taxable value\n",
    "\n",
    "property_components_22['Est_Taxes'] = calc_estimated_taxes(property_components_22)\n",
    "property_components_23['Est_Taxes'] = calc_estimated_taxes(property_components_23)\n",
    "\n",
    "# Assign simplified property categories\n",
    "SIMPLE_CATEGORIES = {\n",
    "    # Residential\n",
    "    'Residential Property': 'Residential',\n",
    "    \n",
    "    # Commercial\n",
    "    'Commercial Property': 'Commercial',\n",
    "    'Mixed Use - Res & Comm': 'Commercial',\n",
    "    \n",
    "    # Industrial\n",
    "    'Industrial Real Property': 'Industrial',\n",
    "    'Industrial Personal Property Attached to Real Property': 'Industrial',\n",
    "    'Industrial Personal Property not Attached to Real': 'Industrial',\n",
    "    'Centrally Assessed GenTax': 'Industrial',\n",
    "    'Locally Assessed Utility': 'Industrial',\n",
    "    \n",
    "    # Ag\n",
    "    'Agricultural and Timber Properties': 'Agricultural',\n",
    "    \n",
    "    # Other\n",
    "    'Net and Gross Proceeds': 'Other',\n",
    "    'Non-Qualified Ag': 'Other', # Sounds like this is ag-like property that hasn't qualified for ag rates\n",
    "    'Personal Property - Strict Personal': 'Other',\n",
    "    'Personal Property Attached to Real Property': 'Other',\n",
    "    'Government Property': 'Other',\n",
    "    'DNRC Cabin Site - Govt': 'Other',\n",
    "    'Tribal Properties': 'Other',\n",
    "    'Manufactured Homes not Attached to Real': 'Other', # Excluding manufactured homes from residential\n",
    "    'Manufactured Homes Attached to Real': 'Other', # Excluding manufactured homes from residential\n",
    "    'Condo/Townhouse Master': 'Other'\n",
    "}\n",
    "property_components_22['PropertyCat_mtfp'] = property_components_22['PropertyTypeDesc'].map(lambda x: SIMPLE_CATEGORIES[x])\n",
    "property_components_23['PropertyCat_mtfp'] = property_components_23['PropertyTypeDesc'].map(lambda x: SIMPLE_CATEGORIES[x])"
   ]
  },
  {
   "cell_type": "markdown",
   "metadata": {},
   "source": [
    "Group property components for each year by `PropertyNumber`, or Geocode, summing `MV` (market value), `TV` (taxable value) and `Est_Tax` (estimated taxes) values to produce a total value for each property.\n",
    "\n",
    "We're grouping by `PropertyNumber` rather than `AssessmentCode` because most centrally assessed properties don't have an `AssessmentCode`. Property numbers for Stillwater Mining Company were missing from the source data and added above.\n",
    "\n",
    "Grouped data tables are then merged with an inner join, producing a joined data table that includes properties present in both years of the data. This should keep newly taxable property from influencing the results."
   ]
  },
  {
   "cell_type": "code",
   "execution_count": 5,
   "metadata": {},
   "outputs": [],
   "source": [
    "def groupByProperty(df):\n",
    "    def concat (x):\n",
    "        uniques = [str(d) for d in list(x.unique())]\n",
    "        if len(uniques) == 0: return ''\n",
    "        if len(uniques) == 1: return uniques[0] # For computational efficiency\n",
    "        uniques.sort()\n",
    "        return  ', '.join(uniques)\n",
    "    return df.groupby([\n",
    "        'County',\n",
    "        'PropertyNumber',\n",
    "        'PropertyTypeDesc', # Constant for property numbers\n",
    "        'PropertyCat_mtfp',\n",
    "        'NameLast',\n",
    "    ], group_keys=False).agg({\n",
    "        'TaxClass': concat,\n",
    "        'ClassCodeDesc': concat,\n",
    "        'MV': 'sum',\n",
    "        'TV': 'sum',\n",
    "        'Est_Taxes': 'sum',\n",
    "    })\n",
    "\n",
    "grouped22 = groupByProperty(property_components_22).reset_index()\n",
    "grouped23 = groupByProperty(property_components_23).reset_index()\n"
   ]
  },
  {
   "cell_type": "code",
   "execution_count": 6,
   "metadata": {},
   "outputs": [],
   "source": [
    "# Join properties present in both years of data\n",
    "joined = grouped23.merge(grouped22, \n",
    "    how='inner', \n",
    "    left_on=['County','PropertyNumber'], \n",
    "    right_on=['County', 'PropertyNumber'],\n",
    "    suffixes=['_23','_22'],\n",
    ")\n",
    "\n",
    "# Change analyses\n",
    "joined['MV_change'] = joined['MV_23'] - joined['MV_22']\n",
    "joined['MV_per_change'] = (joined['MV_23'] - joined['MV_22']) / joined['MV_22']\n",
    "joined['Est_Taxes_change'] = joined['Est_Taxes_23'] - joined['Est_Taxes_22']\n",
    "joined['Est_Taxes_per_change'] = joined['Est_Taxes_change'] / joined['Est_Taxes_22']"
   ]
  },
  {
   "cell_type": "code",
   "execution_count": 7,
   "metadata": {},
   "outputs": [
    {
     "data": {
      "text/plain": [
       "_merge\n",
       "both          955896\n",
       "left_only      13509\n",
       "right_only      6755\n",
       "Name: count, dtype: int64"
      ]
     },
     "execution_count": 7,
     "metadata": {},
     "output_type": "execute_result"
    }
   ],
   "source": [
    "# Merge overlap check\n",
    "#   both = properties present in both years of data\n",
    "#   left_only = properties present in 2023 data, not 2022\n",
    "#   right_only = properties present in 2022 data, not 2023\n",
    "grouped23.merge(grouped22, \n",
    "    how='outer', \n",
    "    left_on=['County','PropertyNumber'], \n",
    "    right_on=['County', 'PropertyNumber'],\n",
    "    suffixes=['_23','_22'],\n",
    "    indicator=True,\n",
    ")['_merge'].value_counts()"
   ]
  },
  {
   "cell_type": "markdown",
   "metadata": {},
   "source": [
    "Write output files for further analysis"
   ]
  },
  {
   "cell_type": "code",
   "execution_count": 8,
   "metadata": {},
   "outputs": [],
   "source": [
    "joined.to_csv('./processed/joined-on-geocode.csv', index=False)\n",
    "property_components_23.to_csv('./processed/2023-property-components.csv', index=False)\n",
    "property_components_22.to_csv('./processed/2022-property-components.csv', index=False)"
   ]
  }
 ],
 "metadata": {
  "kernelspec": {
   "display_name": "Python 3",
   "language": "python",
   "name": "python3"
  },
  "language_info": {
   "codemirror_mode": {
    "name": "ipython",
    "version": 3
   },
   "file_extension": ".py",
   "mimetype": "text/x-python",
   "name": "python",
   "nbconvert_exporter": "python",
   "pygments_lexer": "ipython3",
   "version": "3.11.0"
  }
 },
 "nbformat": 4,
 "nbformat_minor": 2
}
